{
 "cells": [
  {
   "cell_type": "markdown",
   "metadata": {},
   "source": [
    "<h3>this notebook will be mainly used for the capstone project.</h3>"
   ]
  },
  {
   "cell_type": "code",
   "execution_count": null,
   "metadata": {},
   "outputs": [],
   "source": [
    "df['weekend'] = df['dayofweek'].apply(lambda x: 1 if (x>3)  else 0)\n",
    "df['Gender'].replace(to_replace=['male','female'], value=[0,1],inplace=True)\n",
    "\n",
    "#with sklearn use below for imputing\n",
    "def replace_missing_value(df, number_features):\n",
    "\n",
    "    imputer = Imputer(strategy=\"median\")\n",
    "    df_num = df[number_features]\n",
    "    imputer.fit(df_num)\n",
    "    X = imputer.transform(df_num)\n",
    "    res_def = pd.DataFrame(X, columns=df_num.columns)\n",
    "    return res_def\n",
    "\n",
    "def clean_dataset(df):\n",
    "    assert isinstance(df, pd.DataFrame), \"df needs to be a pd.DataFrame\"\n",
    "    df.dropna(inplace=True)\n",
    "    indices_to_keep = ~df.isin([np.nan, np.inf, -np.inf]).any(1)\n",
    "    return df[indices_to_keep].astype(np.float64)"
   ]
  },
  {
   "cell_type": "code",
   "execution_count": 2,
   "metadata": {},
   "outputs": [
    {
     "name": "stdout",
     "output_type": "stream",
     "text": [
      "Hello Capstone Project Course!\n"
     ]
    }
   ],
   "source": [
    "import pandas as pd\n",
    "import numpy as np\n",
    "print('Hello Capstone Project Course! ttps : api.foursquare.com/v2/venues , /users , /tips')"
   ]
  },
  {
   "cell_type": "code",
   "execution_count": null,
   "metadata": {},
   "outputs": [],
   "source": []
  },
  {
   "cell_type": "markdown",
   "metadata": {},
   "source": [
    "Client ID\n",
    "2FDXUDVAQPG5FZ4WWYGT34G2TM1CKBA2JPQCGFTM1Y5I0CJY\n",
    "Client Secret\n",
    "0WA4DSHALVQYC1ZNSLSXV5AXMD2II1SIC0GUVURTVG23KA25\n",
    "App Url:\n",
    "    http://coursera_capstone-project.com\n",
    "Push API\n",
    "Push API Notifications\n",
    "\n",
    "Install options\n",
    "Blackberry App World ID\n",
    "e.g. http://appworld.blackberry.com/webstore/content/6921/\n",
    "iOS App Store ID\n",
    "e.g. http://itunes.apple.com/us/app/foursquare/id306934924&mt=8\n",
    "Android Marketplace ID\n",
    "e.g. https://play.google.com/store/apps/details?id=com.joelapenna.foursquared\n",
    "iOS Bundle IDs\n",
    "Enter as many as you'd like, separated by commas, e.g., com.foursquare.dev.mySuperCoolApp,com.foursquare.production.mySuperCoolApp\n",
    "Android Key Hashes\n",
    "Enter as many as you'd like, separated by commas, e.g., B4:9E:2F:FA:5A:B2:A3:79:3D:D1:95:41:8C:3B:F8:DA:71:40:DA:3E, 24:7F:3A:BF:68:93:9A:E2:BA:B9:C9:BE:1A:BD:39:1B:90:AE:31:5F\n"
   ]
  },
  {
   "cell_type": "code",
   "execution_count": null,
   "metadata": {},
   "outputs": [],
   "source": [
    "X_test_df = test_df[['Principal','terms','age','Gender','weekend']]\n",
    "#lets first train two models once again with parameter leading to good accuracy as seen earlier; then we get to the prediction with loan_test\n",
    "#k=7\n",
    "    neigh = KNeighborsClassifier(n_neighbors = 7).fit(X_train,y_train)\n",
    "    \n",
    "\n",
    "#tree depth = 7\n",
    "    drugTree = DecisionTreeClassifier(criterion=\"entropy\", max_depth = 7)\n",
    "    drugTree.fit(X_train,y_train)\n",
    "    \n",
    "    res = pd.DataFrame()\n",
    "for n in range(1,4):\n",
    "    if(n==1):\n",
    "        yhat=neigh.predict(X_test) # knn\n",
    "    if(n==2):\n",
    "        yhat = drugTree.predict(X_testset) #dectree\n",
    "    if(n==3):\n",
    "        yhat = clf.predict(X_test_df) #svm\n",
    "    if(n==4):\n",
    "        yhat = LR.predict(X_test)\n",
    "    res['f1_score']\n",
    "print(\"Avg F1-score: %.4f\" % f1_score(y_test, yhat, average='weighted'))\n",
    "print(\"Jaccard score: %.4f\" % jaccard_similarity_score(y_test, yhat))\n",
    "print('log loss: ',log_loss(y_test, yhat_prob))\n",
    "\n",
    "logistic\n",
    "\n",
    "print (\"Jaccard score: \", classification_report(y_test, yhat))\n",
    "print(\"Avg F1-score: %.4f\" % f1_score(y_test, yhat, average='weighted'))\n",
    "print(\"Jaccard score: %.4f\" % jaccard_similarity_score(y_test, yhat))\n",
    "from sklearn.metrics import log_loss\n",
    "print('log loss: ',log_loss(y_test, yhat_prob))"
   ]
  }
 ],
 "metadata": {
  "kernelspec": {
   "display_name": "Python 3",
   "language": "python",
   "name": "python3"
  },
  "language_info": {
   "codemirror_mode": {
    "name": "ipython",
    "version": 3
   },
   "file_extension": ".py",
   "mimetype": "text/x-python",
   "name": "python",
   "nbconvert_exporter": "python",
   "pygments_lexer": "ipython3",
   "version": "3.7.2"
  }
 },
 "nbformat": 4,
 "nbformat_minor": 2
}
